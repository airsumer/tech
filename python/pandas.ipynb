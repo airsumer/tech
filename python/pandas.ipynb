{
 "cells": [
  {
   "cell_type": "markdown",
   "metadata": {},
   "source": [
    "# pandas的基本使用\n",
    "## Series数据结构的基本使用\n",
    "`series`是一种**一维**的**带有标签**的**同构类型数组**.在默认情况下,其标签可以算是数据的索引,但是标签是可以改变的,只需要标签唯一就行.其`__new__()`函数有多种重载,其中一种为:\n",
    "``` python\n",
    "    def __new__(\n",
    "        cls, # 表示当前正在创建的对象\n",
    "        data: S1 | _ListLike[S1] | dict[HashableT1, S1],  # 存储的数据\n",
    "        index: Axes | None = ...,# 索引\n",
    "        *,\n",
    "        dtype: Dtype = ..., # 数据的类型,series要求类型相同\n",
    "        name: Hashable = ..., # series的名字,要求可哈希\n",
    "        copy: bool = ...,\n",
    "    ) -> Self: ...\n",
    "```\n",
    "其中`Axes`对象的定义为:\n",
    "``` python\n",
    "Axes: TypeAlias = AnyArrayLike | list | dict | range | tuple\n",
    "```\n",
    "其他属性都是可选项，只有数据一栏是必须参数．"
   ]
  },
  {
   "cell_type": "code",
   "execution_count": 3,
   "metadata": {},
   "outputs": [
    {
     "name": "stdout",
     "output_type": "stream",
     "text": [
      "0    1\n",
      "1    3\n",
      "2    5\n",
      "3    6\n",
      "4    8\n",
      "Name: example, dtype: int64\n",
      "{'_is_copy': None, '_mgr': SingleBlockManager\n",
      "Items: RangeIndex(start=0, stop=5, step=1)\n",
      "NumpyBlock: 5 dtype: int64, '_item_cache': {}, '_attrs': {}, '_flags': <Flags(allows_duplicate_labels=True)>, '_name': 'example'}\n"
     ]
    }
   ],
   "source": [
    "import numpy as np \n",
    "import pandas as pd\n",
    "s=pd.Series([1,3,5,6,8],name=\"example\")\n",
    "print(s)\n",
    "print(s.__dict__)"
   ]
  },
  {
   "cell_type": "markdown",
   "metadata": {},
   "source": [
    "上面的代码输出中,分为两列,第一列是索引,第二列是`Series`结构的数据."
   ]
  },
  {
   "cell_type": "markdown",
   "metadata": {},
   "source": [
    "## DataFrame\n",
    "`DataFrame`是一种类似**二维数组**的数据结构,但是更准确来说其更像是一个二维的数据表,因为它有行何列的索引.其类的结构定义如下:\n",
    "``` python\n",
    " def __init__(\n",
    "        self,\n",
    "        data=None,\n",
    "        index: Axes | None = None, # 行索引\n",
    "        columns: Axes | None = None, # 列名\n",
    "        dtype: Dtype | None = None,\n",
    "        copy: bool | None = None,\n",
    "    ) -> None:\n",
    "```"
   ]
  },
  {
   "cell_type": "code",
   "execution_count": 8,
   "metadata": {},
   "outputs": [
    {
     "data": {
      "text/html": [
       "<div>\n",
       "<style scoped>\n",
       "    .dataframe tbody tr th:only-of-type {\n",
       "        vertical-align: middle;\n",
       "    }\n",
       "\n",
       "    .dataframe tbody tr th {\n",
       "        vertical-align: top;\n",
       "    }\n",
       "\n",
       "    .dataframe thead th {\n",
       "        text-align: right;\n",
       "    }\n",
       "</style>\n",
       "<table border=\"1\" class=\"dataframe\">\n",
       "  <thead>\n",
       "    <tr style=\"text-align: right;\">\n",
       "      <th></th>\n",
       "      <th>A</th>\n",
       "      <th>B</th>\n",
       "      <th>C</th>\n",
       "      <th>D</th>\n",
       "    </tr>\n",
       "  </thead>\n",
       "  <tbody>\n",
       "    <tr>\n",
       "      <th>2025-07-01</th>\n",
       "      <td>-0.266276</td>\n",
       "      <td>0.087143</td>\n",
       "      <td>-1.842953</td>\n",
       "      <td>-1.966072</td>\n",
       "    </tr>\n",
       "    <tr>\n",
       "      <th>2025-07-02</th>\n",
       "      <td>0.152547</td>\n",
       "      <td>1.015309</td>\n",
       "      <td>0.206035</td>\n",
       "      <td>0.746694</td>\n",
       "    </tr>\n",
       "    <tr>\n",
       "      <th>2025-07-03</th>\n",
       "      <td>0.572909</td>\n",
       "      <td>-1.795848</td>\n",
       "      <td>-3.044905</td>\n",
       "      <td>-0.300246</td>\n",
       "    </tr>\n",
       "    <tr>\n",
       "      <th>2025-07-04</th>\n",
       "      <td>-0.502446</td>\n",
       "      <td>-0.043482</td>\n",
       "      <td>-0.287107</td>\n",
       "      <td>-1.123606</td>\n",
       "    </tr>\n",
       "    <tr>\n",
       "      <th>2025-07-05</th>\n",
       "      <td>-1.043520</td>\n",
       "      <td>-1.509854</td>\n",
       "      <td>0.880079</td>\n",
       "      <td>0.533172</td>\n",
       "    </tr>\n",
       "    <tr>\n",
       "      <th>2025-07-06</th>\n",
       "      <td>-0.710311</td>\n",
       "      <td>-0.924725</td>\n",
       "      <td>3.964485</td>\n",
       "      <td>-0.779178</td>\n",
       "    </tr>\n",
       "  </tbody>\n",
       "</table>\n",
       "</div>"
      ],
      "text/plain": [
       "                   A         B         C         D\n",
       "2025-07-01 -0.266276  0.087143 -1.842953 -1.966072\n",
       "2025-07-02  0.152547  1.015309  0.206035  0.746694\n",
       "2025-07-03  0.572909 -1.795848 -3.044905 -0.300246\n",
       "2025-07-04 -0.502446 -0.043482 -0.287107 -1.123606\n",
       "2025-07-05 -1.043520 -1.509854  0.880079  0.533172\n",
       "2025-07-06 -0.710311 -0.924725  3.964485 -0.779178"
      ]
     },
     "execution_count": 8,
     "metadata": {},
     "output_type": "execute_result"
    }
   ],
   "source": [
    "import numpy as np\n",
    "import pandas as pd\n",
    "\n",
    "# 使用`date_range()`创建一个`datetime index``\n",
    "dates=pd.date_range(\"20250701\",periods=6)\n",
    "dates\n",
    "# 使用numpy的ndarray创建DataFrame对象\n",
    "df=pd.DataFrame(np.random.randn(6,4),index=dates,columns=list(\"ABCD\"))\n",
    "df"
   ]
  },
  {
   "cell_type": "markdown",
   "metadata": {},
   "source": [
    "### 用字典创建`DataFrame`对象\n",
    "在上面的例子中,`columns`属性实质就是二维数据表的列名.而数据`index`属性就是列坐标.除了使用`ndarray`创建对象外还可以通过`字典创建`.`DataFrame`的构造函数体内通过`if-else`语句判断输入参数的类型来使用不同的逻辑创建`DataFrame`对象."
   ]
  },
  {
   "cell_type": "code",
   "execution_count": 9,
   "metadata": {},
   "outputs": [
    {
     "data": {
      "text/html": [
       "<div>\n",
       "<style scoped>\n",
       "    .dataframe tbody tr th:only-of-type {\n",
       "        vertical-align: middle;\n",
       "    }\n",
       "\n",
       "    .dataframe tbody tr th {\n",
       "        vertical-align: top;\n",
       "    }\n",
       "\n",
       "    .dataframe thead th {\n",
       "        text-align: right;\n",
       "    }\n",
       "</style>\n",
       "<table border=\"1\" class=\"dataframe\">\n",
       "  <thead>\n",
       "    <tr style=\"text-align: right;\">\n",
       "      <th></th>\n",
       "      <th>A</th>\n",
       "      <th>B</th>\n",
       "      <th>C</th>\n",
       "      <th>D</th>\n",
       "      <th>E</th>\n",
       "      <th>F</th>\n",
       "    </tr>\n",
       "  </thead>\n",
       "  <tbody>\n",
       "    <tr>\n",
       "      <th>0</th>\n",
       "      <td>1.0</td>\n",
       "      <td>2013-01-02</td>\n",
       "      <td>1.0</td>\n",
       "      <td>3</td>\n",
       "      <td>test</td>\n",
       "      <td>foo</td>\n",
       "    </tr>\n",
       "    <tr>\n",
       "      <th>1</th>\n",
       "      <td>1.0</td>\n",
       "      <td>2013-01-02</td>\n",
       "      <td>1.0</td>\n",
       "      <td>3</td>\n",
       "      <td>train</td>\n",
       "      <td>foo</td>\n",
       "    </tr>\n",
       "    <tr>\n",
       "      <th>2</th>\n",
       "      <td>1.0</td>\n",
       "      <td>2013-01-02</td>\n",
       "      <td>1.0</td>\n",
       "      <td>3</td>\n",
       "      <td>test</td>\n",
       "      <td>foo</td>\n",
       "    </tr>\n",
       "    <tr>\n",
       "      <th>3</th>\n",
       "      <td>1.0</td>\n",
       "      <td>2013-01-02</td>\n",
       "      <td>1.0</td>\n",
       "      <td>3</td>\n",
       "      <td>train</td>\n",
       "      <td>foo</td>\n",
       "    </tr>\n",
       "  </tbody>\n",
       "</table>\n",
       "</div>"
      ],
      "text/plain": [
       "     A          B    C  D      E    F\n",
       "0  1.0 2013-01-02  1.0  3   test  foo\n",
       "1  1.0 2013-01-02  1.0  3  train  foo\n",
       "2  1.0 2013-01-02  1.0  3   test  foo\n",
       "3  1.0 2013-01-02  1.0  3  train  foo"
      ]
     },
     "execution_count": 9,
     "metadata": {},
     "output_type": "execute_result"
    }
   ],
   "source": [
    "import numpy as np\n",
    "import pandas as pd\n",
    "\n",
    "df2 = pd.DataFrame(\n",
    "    {\n",
    "        \"A\": 1.0,\n",
    "        \"B\": pd.Timestamp(\"20130102\"),\n",
    "        \"C\": pd.Series(1, index=list(range(4)), dtype=\"float32\"),\n",
    "        \"D\": np.array([3] * 4, dtype=\"int32\"),\n",
    "        \"E\": pd.Categorical([\"test\", \"train\", \"test\", \"train\"]),\n",
    "        \"F\": \"foo\",\n",
    "    }\n",
    ")\n",
    "df2"
   ]
  },
  {
   "cell_type": "markdown",
   "metadata": {},
   "source": [
    "参数为字典时,字典的每一个元素都是一个`Series`,也是二维数据表中的列.由于`Series`有`name`这一属性,该属性也是二维数据表的列名.不同的`Series`数据类型可以不同."
   ]
  },
  {
   "cell_type": "markdown",
   "metadata": {},
   "source": [
    "# DataFrame数据的查看\n"
   ]
  }
 ],
 "metadata": {
  "kernelspec": {
   "display_name": "Python 3",
   "language": "python",
   "name": "python3"
  },
  "language_info": {
   "codemirror_mode": {
    "name": "ipython",
    "version": 3
   },
   "file_extension": ".py",
   "mimetype": "text/x-python",
   "name": "python",
   "nbconvert_exporter": "python",
   "pygments_lexer": "ipython3",
   "version": "3.13.5"
  }
 },
 "nbformat": 4,
 "nbformat_minor": 2
}
